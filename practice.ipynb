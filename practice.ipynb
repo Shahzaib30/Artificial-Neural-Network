{
 "cells": [
  {
   "cell_type": "code",
   "execution_count": 31,
   "metadata": {},
   "outputs": [],
   "source": [
    "import torch\n",
    "import torch.nn as nn\n",
    "from torch.nn import MSELoss\n",
    "import torch.optim as optim\n",
    "\n",
    "inputd=torch.tensor([[4,5,6,7,8,9],\n",
    "                   [1,2,3,4,5,6]], dtype=torch.float32)\n",
    "actual=torch.tensor([[5],[6]], dtype=torch.float32)\n",
    "model= nn.Sequential(\n",
    "    nn.Linear(6,10),\n",
    "    nn.Linear(10,1),\n",
    "    nn.Sigmoid()\n",
    ")\n",
    "\n",
    "#print(prediction)\n",
    "criterian=MSELoss()\n",
    "\n",
    "optimizer=optim.SGD(model.parameters(), lr=0.001)\n"
   ]
  },
  {
   "cell_type": "code",
   "execution_count": 36,
   "metadata": {},
   "outputs": [
    {
     "name": "stdout",
     "output_type": "stream",
     "text": [
      "tensor([[1.],\n",
      "        [1.]], grad_fn=<SigmoidBackward0>)\n"
     ]
    }
   ],
   "source": [
    "\n",
    "\n",
    "for epoch in range(1000):\n",
    "    prediction=model(inputd)\n",
    "    loss=criterian(prediction,actual)\n",
    "    loss.backward()\n",
    "    optimizer.step()\n",
    "f_p=model(inputd)\n",
    "print(f_p)"
   ]
  },
  {
   "cell_type": "code",
   "execution_count": 38,
   "metadata": {},
   "outputs": [
    {
     "ename": "SyntaxError",
     "evalue": "invalid syntax (1704817179.py, line 2)",
     "output_type": "error",
     "traceback": [
      "\u001b[0;36m  Cell \u001b[0;32mIn[38], line 2\u001b[0;36m\u001b[0m\n\u001b[0;31m    labels=torch.tensor([1,2,3|])\u001b[0m\n\u001b[0m                               ^\u001b[0m\n\u001b[0;31mSyntaxError\u001b[0m\u001b[0;31m:\u001b[0m invalid syntax\n"
     ]
    }
   ],
   "source": [
    "import torch.nn.functional as nn\n",
    "labels=torch.tensor([1,2,3|])\n",
    "one_hot=nn.one_hot(labels,num_classes=4)\n",
    "print(one_hot)\n"
   ]
  },
  {
   "cell_type": "code",
   "execution_count": null,
   "metadata": {},
   "outputs": [],
   "source": []
  }
 ],
 "metadata": {
  "kernelspec": {
   "display_name": "my_env",
   "language": "python",
   "name": "python3"
  },
  "language_info": {
   "codemirror_mode": {
    "name": "ipython",
    "version": 3
   },
   "file_extension": ".py",
   "mimetype": "text/x-python",
   "name": "python",
   "nbconvert_exporter": "python",
   "pygments_lexer": "ipython3",
   "version": "3.12.3"
  }
 },
 "nbformat": 4,
 "nbformat_minor": 2
}
